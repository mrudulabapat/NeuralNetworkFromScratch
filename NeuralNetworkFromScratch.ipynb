{
 "cells": [
  {
   "cell_type": "code",
   "execution_count": 69,
   "metadata": {},
   "outputs": [],
   "source": [
    "# Generating a toy dataset.\n",
    "\n",
    "import numpy as np\n",
    "import math\n",
    "import random as rand\n",
    "\n",
    "paras = list((rand.random() - 0.5 for _ in range(10)))\n",
    "\n",
    "def y_gen(x):\n",
    "    h_11 = math.tanh(paras[0] * x[0] + paras[1] * x[1] + paras[2])\n",
    "    h_12 = math.tanh(paras[3] * x[0] + paras[4] * x[1] + paras[5])\n",
    "    h_13 = math.tanh(paras[3] * x[0] + paras[4] * x[1] + paras[5])\n",
    "    h_21 = 1/(1 + np.exp(-(paras[6] * h_11 + paras[7] * h_12 + paras[8] * h_13 + paras[9])))\n",
    "    return h_21 + ((rand.random()-0.5)/100 if rand.random()>0.6 else 0)\n",
    "\n",
    "n = 300\n",
    "x = list(zip((rand.random() - 0.5 for _ in range(n)), (rand.random() - 0.5 for _ in range(n))))\n",
    "y = list(map(y_gen, x))\n",
    "y = [(i-min(y))/(max(y)-min(y)) for i in y]"
   ]
  },
  {
   "cell_type": "code",
   "execution_count": 70,
   "metadata": {},
   "outputs": [],
   "source": [
    "# Spliting dataset into training, validation, and test.\n",
    "\n",
    "from sklearn.model_selection import train_test_split\n",
    "\n",
    "r = 0.25\n",
    "x_train, x_test, y_train, y_test = train_test_split(x, y, test_size=r)\n",
    "\n",
    "x_val = x_train[:int(n*r)]\n",
    "partial_x_train = x_train[int(n*r):]\n",
    "y_val = y_train[:int(n*r)]\n",
    "partial_y_train = y_train[int(n*r):]"
   ]
  },
  {
   "cell_type": "markdown",
   "metadata": {},
   "source": [
    "Formula of bias for layer 2\n",
    "\n",
    "$$\n",
    "\\frac{\\partial L}{\\partial b^2} = \\frac{\\partial L}{\\partial \\hat{y_1}}.\\frac{\\partial \\hat{y_1}}{\\partial h_1^2}.\\frac{\\partial h1^2}{\\partial a_1^2}.\\frac{\\partial a_1^2}{\\partial b^2}\n",
    "$$\n"
   ]
  },
  {
   "cell_type": "markdown",
   "metadata": {},
   "source": [
    "$$\n",
    "   = (\\hat{y_1} - y_1).(1-\\hat{y_1}).\\hat{y_1}\n",
    "$$\n"
   ]
  },
  {
   "cell_type": "markdown",
   "metadata": {},
   "source": [
    "Formula of weights of layer 2\n",
    "\n",
    "$$\n",
    "\\frac{\\partial L}{\\partial \\vec{w}^{\\,(2)}} = \\begin{bmatrix}\n",
    "\\frac{\\partial L}{\\partial w^2_{11}}\\\\\n",
    "\\frac{\\partial L}{\\partial w^2_{21}} \\\\\n",
    "\\frac{\\partial L}{\\partial w^2_{31}}\n",
    "\\end{bmatrix} = \n",
    "$$"
   ]
  },
  {
   "cell_type": "markdown",
   "metadata": {},
   "source": [
    "$$\n",
    "\\frac{\\partial L}{\\partial \\vec{w}^{\\,(2)}} = \\begin{bmatrix}\n",
    "(\\hat{y_1} - y_1).\\hat{y_1}.(1-\\hat{y_1}).h^1_1\\\\\n",
    "(\\hat{y_1} - y_1).\\hat{y_1}.(1-\\hat{y_1}).h^1_2 \\\\\n",
    "(\\hat{y_1} - y_1).\\hat{y_1}.(1-\\hat{y_1}).h^1_3\n",
    "\\end{bmatrix}\n",
    "$$"
   ]
  },
  {
   "cell_type": "markdown",
   "metadata": {},
   "source": [
    "Formula of biases of layer 1\n",
    "$$\\frac{\\partial L}{\\partial \\vec{b}^{\\,(1)}} =\\begin{bmatrix}\n",
    "\\frac{\\partial L}{\\partial b^1_1}\\\\\n",
    "\\frac{\\partial L}{\\partial b^1_2}\\\\\n",
    "\\frac{\\partial L}{\\partial b^1_3}\n",
    "\\end{bmatrix} = \\begin{bmatrix}\n",
    "(\\hat{y_1} - y_1).\\hat{y_1}.(1-\\hat{y_1}).w^2_{11}.(1-({h^1_1})^2)\\\\\n",
    "(\\hat{y_1} - y_1).\\hat{y_1}.(1-\\hat{y_1}).w^2_{21}.(1-({h^1_2})^2)\\\\\n",
    "(\\hat{y_1} - y_1).\\hat{y_1}.(1-\\hat{y_1}).w^2_{31}.(1-({h^1_3})^2)\n",
    "\\end{bmatrix}\n",
    "$$\n"
   ]
  },
  {
   "cell_type": "markdown",
   "metadata": {},
   "source": [
    "Formula of weights of layer 1\n",
    "$$\n",
    "\\frac{\\partial L}{\\partial \\vec{W}^{\\,(1)}} =\\begin{bmatrix}\n",
    "\\frac{\\partial L}{\\partial w^1_{11}} & \\frac{\\partial L}{\\partial w^1_{12}} & \\frac{\\partial L}{\\partial w^1_{13}} \\\\\n",
    "\\frac{\\partial L}{\\partial w^1_{21}} & \\frac{\\partial L}{\\partial w^1_{22}}  & \\frac{\\partial L}{\\partial w^1_{23}}\n",
    "\\end{bmatrix} \n",
    "$$"
   ]
  },
  {
   "cell_type": "markdown",
   "metadata": {},
   "source": [
    "$$\n",
    "\\frac{\\partial L}{\\partial \\vec{W}^{\\,(1)}} =\\begin{bmatrix}\n",
    "(\\hat{y_1} - y_1).\\hat{y_1}.(1-\\hat{y_1}).w^2_{11}.(1-({h^1_1})^2).x_1 & (\\hat{y_1} - y_1).\\hat{y_1}.(1-\\hat{y_1}).w^2_{21}.(1-({h^1_2})^2).x_1 & (\\hat{y_1} - y_1).\\hat{y_1}.(1-\\hat{y_1}).w^2_{31}.(1-({h^1_3})^2).x_1\n",
    "\\\\(\\hat{y_1} - y_1).\\hat{y_1}.(1-\\hat{y_1}).w^2_{11}.(1-({h^1_1})^2).x_2 & (\\hat{y_1} - y_1).\\hat{y_1}.(1-\\hat{y_1}).w^2_{21}.(1-({h^1_2})^2).x_2 & (\\hat{y_1} - y_1).\\hat{y_1}.(1-\\hat{y_1}).w^2_{31}.(1-({h^1_3})^2)x_2\n",
    "\\end{bmatrix}\n",
    "$$"
   ]
  },
  {
   "cell_type": "code",
   "execution_count": 71,
   "metadata": {},
   "outputs": [],
   "source": [
    "# Initialize random weights and biases for the neural network\n",
    "np.random.seed(0)\n",
    "input_size = 2\n",
    "hidden_size = 3\n",
    "output_size = 1"
   ]
  },
  {
   "cell_type": "code",
   "execution_count": 72,
   "metadata": {},
   "outputs": [],
   "source": [
    "# Initialize weights and biases for the first layer with tanh activation\n",
    "W1 = np.random.randn(input_size, hidden_size)\n",
    "b1 = np.zeros((1, hidden_size))\n",
    "\n",
    "# Initialize weights and biases for the second layer with sigmoid activation\n",
    "W2 = np.random.randn(hidden_size, output_size)\n",
    "b2 = np.zeros((1, output_size))"
   ]
  },
  {
   "cell_type": "code",
   "execution_count": 49,
   "metadata": {},
   "outputs": [],
   "source": [
    "# tanh activation function\n",
    "def tanh(x):\n",
    "    return np.tanh(x)\n",
    "\n",
    "# sigmoid activation function\n",
    "def sigmoid(x):\n",
    "    return 1 / (1 + np.exp(-x))\n",
    "\n",
    "# mean squared error loss function\n",
    "def mse(y_true, y_pred):\n",
    "    return np.mean((y_true - y_pred) ** 2)"
   ]
  },
  {
   "cell_type": "code",
   "execution_count": 50,
   "metadata": {},
   "outputs": [],
   "source": [
    "# Forward propogation function\n",
    "def forward_prop(W1, b1, W2, b2, X):\n",
    "    #layer1\n",
    "    a1 = np.dot(X, W1) + b1\n",
    "    h1 = tanh(a1)\n",
    "    \n",
    "    #Layer2\n",
    "    a2 = np.dot(a1, W2) + b2\n",
    "    h2 = sigmoid(a2)\n",
    "    return a1,h1,a2,h2"
   ]
  },
  {
   "cell_type": "code",
   "execution_count": 53,
   "metadata": {},
   "outputs": [],
   "source": [
    "#Function to normalize input values\n",
    "def normalize_data_custom(input_data):\n",
    "    custom_min = -1.0  \n",
    "    custom_max = 1.0   \n",
    "\n",
    "    # Extract the two columns of data\n",
    "    x1_values = [x[0] for x in input_data]\n",
    "    x2_values = [x[1] for x in input_data]\n",
    "\n",
    "    normalized_data = [((x1 - min(x1_values)) / (max(x1_values) - min(x1_values)) * (custom_max - custom_min) + custom_min,\n",
    "                    (x2 - min(x2_values)) / (max(x2_values) - min(x2_values)) * (custom_max - custom_min) + custom_min)\n",
    "                   for x1, x2 in input_data]\n",
    "    return(normalized_data)"
   ]
  },
  {
   "cell_type": "code",
   "execution_count": 73,
   "metadata": {},
   "outputs": [],
   "source": [
    "#Normalize and reshape partial_x_train and x_val\n",
    "X = normalize_data_custom(partial_x_train)\n",
    "X = np.array(X).reshape(-1,2)\n",
    "\n",
    "X_val = normalize_data_custom(x_val)\n",
    "X_val_normalized = np.array(X_val).reshape(-1,2) "
   ]
  },
  {
   "cell_type": "code",
   "execution_count": 74,
   "metadata": {},
   "outputs": [],
   "source": [
    "epochs = 100\n",
    "learning_rate = 0.1\n",
    "loss_values = []\n",
    "val_loss_values = []\n",
    "partial_y_train_reshaped = np.array(partial_y_train).reshape(-1,1)\n",
    "\n",
    "history_dict = {\n",
    "    'loss': [],\n",
    "    'val_loss': []\n",
    "}\n",
    "\n",
    "for epoch in range(epochs):\n",
    "    a1,h1,a2,y_pred = forward_prop(W1, b1, W2, b2, X)\n",
    "    train_loss = mse(partial_y_train_reshaped, y_pred)\n",
    "    loss_values.append(train_loss)\n",
    "    \n",
    "    #Backpropogation\n",
    "    dL = y_pred - partial_y_train_reshaped\n",
    "    dW2 = 1/n * np.dot(h1.T,dL)\n",
    "    db2 = 1/n * np.sum(dL, axis=0, keepdims=True)\n",
    "    dh1 = np.dot(dL, W2.T) * (1 - h1**2)\n",
    "    dW1 = 1/n * np.dot(X.T, dh1)\n",
    "    db1 = 1/n *np.sum(dh1, axis=0, keepdims=True)\n",
    "    \n",
    "    # Update weights and biases using gradient descent\n",
    "    W1 -= learning_rate * dW1\n",
    "    b1 -= learning_rate * db1\n",
    "    W2 -= learning_rate * dW2\n",
    "    b2 -= learning_rate * db2\n",
    "      \n",
    "    # Validation of the trained neural network\n",
    "    a1,h1,a2,y_pred_val = forward_prop(W1, b1, W2, b2, X_val_normalized)\n",
    "    val_loss = mse(y_val, y_pred_val)\n",
    "    val_loss_values.append(val_loss)\n",
    "    \n",
    "\n",
    "        \n",
    "history_dict['loss'] = loss_values\n",
    "history_dict['val_loss'] = val_loss_values\n",
    "        \n",
    "#Make predictions\n",
    "a1,h1,a2,y_pred = forward_prop(W1, b1, W2, b2, x_test)\n"
   ]
  },
  {
   "cell_type": "code",
   "execution_count": 75,
   "metadata": {},
   "outputs": [
    {
     "data": {
      "image/png": "[encoded data removed]",
      "text/plain": [
       "<Figure size 640x480 with 1 Axes>"
      ]
     },
     "metadata": {},
     "output_type": "display_data"
    },
    {
     "data": {
      "text/plain": [
       "<matplotlib.collections.PathCollection at 0x1bd7825ff50>"
      ]
     },
     "execution_count": 75,
     "metadata": {},
     "output_type": "execute_result"
    },
    {
     "data": {
      "image/png": "[encoded data removed]",
      "text/plain": [
       "<Figure size 640x480 with 1 Axes>"
      ]
     },
     "metadata": {},
     "output_type": "display_data"
    }
   ],
   "source": [
    "# Visualizing losses and prediction\n",
    "# DO NOT MODIFY THIS PART\n",
    "\n",
    "import matplotlib.pyplot as plt\n",
    "\n",
    "epochs = range(1, len(history_dict['loss']) + 1)\n",
    "\n",
    "plt.plot(epochs, loss_values, 'bo', label='Training loss')\n",
    "plt.plot(epochs, val_loss_values, 'b', label='Validation loss')\n",
    "plt.title('Training and validation loss')\n",
    "plt.xlabel('Epochs')\n",
    "plt.ylabel('Loss')\n",
    "plt.legend()\n",
    "plt.show()\n",
    "\n",
    "plt.title('Scatter Plot')\n",
    "plt.xlabel('True')\n",
    "plt.ylabel('Predict')\n",
    "plt.scatter(y_test, y_pred)"
   ]
  },
  {
   "cell_type": "code",
   "execution_count": null,
   "metadata": {},
   "outputs": [],
   "source": []
  }
 ],
 "metadata": {
  "kernelspec": {
   "display_name": "PR_GPU",
   "language": "python",
   "name": "pr_gpu"
  },
  "language_info": {
   "codemirror_mode": {
    "name": "ipython",
    "version": 3
   },
   "file_extension": ".py",
   "mimetype": "text/x-python",
   "name": "python",
   "nbconvert_exporter": "python",
   "pygments_lexer": "ipython3",
   "version": "3.7.4"
  }
 },
 "nbformat": 4,
 "nbformat_minor": 5
}
